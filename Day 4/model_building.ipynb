{
 "cells": [
  {
   "cell_type": "code",
   "execution_count": 9,
   "id": "854e9ee3",
   "metadata": {},
   "outputs": [
    {
     "name": "stdout",
     "output_type": "stream",
     "text": [
      "[[74  0  0  0  0  0  0  0  0  0]\n",
      " [ 0 67  0  0  0  1  0  0  0  0]\n",
      " [ 0  0 67  0  0  0  0  1  0  0]\n",
      " [ 0  0  0 82  0  0  0  1  0  0]\n",
      " [ 0  0  0  0 79  0  0  0  0  0]\n",
      " [ 0  0  0  0  0 64  1  0  0  0]\n",
      " [ 0  0  0  0  0  0 70  0  0  0]\n",
      " [ 0  0  0  0  0  0  0 73  0  1]\n",
      " [ 0  2  0  0  0  0  0  0 60  0]\n",
      " [ 0  1  0  2  0  1  0  0  1 71]]\n",
      "              precision    recall  f1-score   support\n",
      "\n",
      "           0       1.00      1.00      1.00        74\n",
      "           1       0.96      0.99      0.97        68\n",
      "           2       1.00      0.99      0.99        68\n",
      "           3       0.98      0.99      0.98        83\n",
      "           4       1.00      1.00      1.00        79\n",
      "           5       0.97      0.98      0.98        65\n",
      "           6       0.99      1.00      0.99        70\n",
      "           7       0.97      0.99      0.98        74\n",
      "           8       0.98      0.97      0.98        62\n",
      "           9       0.99      0.93      0.96        76\n",
      "\n",
      "    accuracy                           0.98       719\n",
      "   macro avg       0.98      0.98      0.98       719\n",
      "weighted avg       0.98      0.98      0.98       719\n",
      "\n"
     ]
    }
   ],
   "source": [
    "from sklearn.datasets import load_digits\n",
    "\n",
    "digits = load_digits()\n",
    "\n",
    "f_n = digits.feature_names\n",
    "t = digits.target_names\n",
    "\n",
    "X = digits.data\n",
    "Y = digits.target\n",
    "\n",
    "from sklearn.model_selection import train_test_split as tns\n",
    "x_train, x_test, y_train, y_test = tns(X, Y, test_size = 0.4, random_state =1)\n",
    "\n",
    "from sklearn.neighbors import KNeighborsClassifier as knc\n",
    "knn = knc(n_neighbors=3)\n",
    "knn.fit(x_train, y_train)\n",
    "\n",
    "y_pred = knn.predict(x_test)\n",
    "\n",
    "from sklearn.metrics import confusion_matrix\n",
    "cm = confusion_matrix(y_test, y_pred)\n",
    "print( cm)\n",
    "from sklearn.metrics import classification_report\n",
    "\n",
    "cr = classification_report(y_test, y_pred)\n",
    "\n",
    "print(cr)\n",
    "\n"
   ]
  },
  {
   "cell_type": "code",
   "execution_count": null,
   "id": "02c75978",
   "metadata": {},
   "outputs": [],
   "source": []
  },
  {
   "cell_type": "code",
   "execution_count": null,
   "id": "b07c09ab",
   "metadata": {},
   "outputs": [],
   "source": []
  }
 ],
 "metadata": {
  "kernelspec": {
   "display_name": "Python 3 (ipykernel)",
   "language": "python",
   "name": "python3"
  },
  "language_info": {
   "codemirror_mode": {
    "name": "ipython",
    "version": 3
   },
   "file_extension": ".py",
   "mimetype": "text/x-python",
   "name": "python",
   "nbconvert_exporter": "python",
   "pygments_lexer": "ipython3",
   "version": "3.9.7"
  }
 },
 "nbformat": 4,
 "nbformat_minor": 5
}
