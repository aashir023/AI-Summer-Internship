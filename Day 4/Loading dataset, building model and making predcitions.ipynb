{
 "cells": [
  {
   "cell_type": "code",
   "execution_count": 4,
   "id": "3973c01c",
   "metadata": {},
   "outputs": [
    {
     "name": "stdout",
     "output_type": "stream",
     "text": [
      "Accuracy of KNN : 0.9833333333333333\n"
     ]
    }
   ],
   "source": [
    "from sklearn.datasets import load_iris\n",
    "\n",
    "#loading the iris dataset\n",
    "iris = load_iris()\n",
    "\n",
    "#storing the feature matrix(X) and response vector(Y)\n",
    "X = iris.data\n",
    "Y = iris.target\n",
    "\n",
    "#splitting the data into training and testing sets using train_test_module\n",
    "from sklearn.model_selection import train_test_split\n",
    "x_train, x_test, y_train, y_test =  train_test_split(X, Y, test_size = 0.4, random_state =1)\n",
    "\n",
    "#Creating an instance of KNN classifier and fitting the training data inside it\n",
    "from sklearn.neighbors import KNeighborsClassifier as knc\n",
    "knn = knc(n_neighbors = 3)\n",
    "knn.fit(x_train, y_train)\n",
    "\n",
    "#creating a predictor using the trained KNN model\n",
    "y_pred = knn.predict(x_test)\n",
    "\n",
    "#comparing the predicted value and the actual value of testing data and printing the accuracy of the model\n",
    "from sklearn import metrics\n",
    "print(\"Accuracy of KNN :\", metrics.accuracy_score(y_test, y_pred))\n"
   ]
  },
  {
   "cell_type": "code",
   "execution_count": null,
   "id": "b7900611",
   "metadata": {},
   "outputs": [],
   "source": []
  }
 ],
 "metadata": {
  "kernelspec": {
   "display_name": "Python 3 (ipykernel)",
   "language": "python",
   "name": "python3"
  },
  "language_info": {
   "codemirror_mode": {
    "name": "ipython",
    "version": 3
   },
   "file_extension": ".py",
   "mimetype": "text/x-python",
   "name": "python",
   "nbconvert_exporter": "python",
   "pygments_lexer": "ipython3",
   "version": "3.9.7"
  }
 },
 "nbformat": 4,
 "nbformat_minor": 5
}
