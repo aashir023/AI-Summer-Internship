{
 "cells": [
  {
   "cell_type": "code",
   "execution_count": 1,
   "id": "4b0ea5b7",
   "metadata": {},
   "outputs": [
    {
     "name": "stdout",
     "output_type": "stream",
     "text": [
      "Classification report for naive bayes :\n",
      "               precision    recall  f1-score   support\n",
      "\n",
      "     class_0       0.92      0.92      0.92        12\n",
      "     class_1       0.93      0.88      0.90        16\n",
      "     class_2       0.89      1.00      0.94         8\n",
      "\n",
      "    accuracy                           0.92        36\n",
      "   macro avg       0.91      0.93      0.92        36\n",
      "weighted avg       0.92      0.92      0.92        36\n",
      "\n",
      "Classification report for KNN :\n",
      "               precision    recall  f1-score   support\n",
      "\n",
      "     class_0       0.65      0.92      0.76        12\n",
      "     class_1       0.80      0.50      0.62        16\n",
      "     class_2       0.56      0.62      0.59         8\n",
      "\n",
      "    accuracy                           0.67        36\n",
      "   macro avg       0.67      0.68      0.65        36\n",
      "weighted avg       0.69      0.67      0.66        36\n",
      "\n",
      "Classification report for Logistic Regression :\n",
      "               precision    recall  f1-score   support\n",
      "\n",
      "     class_0       0.75      1.00      0.86        12\n",
      "     class_1       0.92      0.75      0.83        16\n",
      "     class_2       1.00      0.88      0.93         8\n",
      "\n",
      "    accuracy                           0.86        36\n",
      "   macro avg       0.89      0.88      0.87        36\n",
      "weighted avg       0.88      0.86      0.86        36\n",
      "\n",
      "Accuracy of first model =  0.9166666666666666\n",
      "Accuracy of second model =  0.6666666666666666\n",
      "Accuracy of 3rd model =  0.8611111111111112\n"
     ]
    },
    {
     "name": "stderr",
     "output_type": "stream",
     "text": [
      "C:\\Users\\Aashir\\anaconda3\\lib\\site-packages\\sklearn\\linear_model\\_logistic.py:763: ConvergenceWarning: lbfgs failed to converge (status=1):\n",
      "STOP: TOTAL NO. of ITERATIONS REACHED LIMIT.\n",
      "\n",
      "Increase the number of iterations (max_iter) or scale the data as shown in:\n",
      "    https://scikit-learn.org/stable/modules/preprocessing.html\n",
      "Please also refer to the documentation for alternative solver options:\n",
      "    https://scikit-learn.org/stable/modules/linear_model.html#logistic-regression\n",
      "  n_iter_i = _check_optimize_result(\n"
     ]
    }
   ],
   "source": [
    "#importing important libraries\n",
    "\n",
    "import pandas as pd\n",
    "import numpy as np\n",
    "from sklearn.datasets import load_wine\n",
    "from sklearn.model_selection import train_test_split\n",
    "from sklearn.naive_bayes import GaussianNB\n",
    "from sklearn.metrics import accuracy_score\n",
    "from sklearn.neighbors import KNeighborsClassifier\n",
    "from sklearn import linear_model\n",
    "\n",
    "\n",
    "wine = load_wine()\n",
    "\n",
    "f = wine.feature_names\n",
    "t = wine.target_names\n",
    "\n",
    "#extracting the feature matrix and the response vector\n",
    "\n",
    "X = wine.data\n",
    "y = wine.target\n",
    "\n",
    "#splitting the data into training and testing set\n",
    "\n",
    "x_train, x_test, y_train, y_test = train_test_split(X, y, test_size=0.2)\n",
    "\n",
    "\n",
    "#creating and traing the naive bayes model \n",
    "gnb = GaussianNB()\n",
    "gnb.fit(x_train, y_train)\n",
    "\n",
    "\n",
    "#creating and traing the KNN model \n",
    "knn = KNeighborsClassifier(n_neighbors=5)\n",
    "knn.fit(x_train, y_train)\n",
    "\n",
    "\n",
    "#creating and traing the Logistic Regression model \n",
    "reg = linear_model.LogisticRegression()\n",
    "reg.fit(x_train, y_train)\n",
    "\n",
    "\n",
    "#predicting values using each algorithm\n",
    "pred_1 = gnb.predict(x_test)\n",
    "pred_2 = knn.predict(x_test)\n",
    "pred_3 = reg.predict(x_test)\n",
    "\n",
    "#checking the Accuracy scores for the above algorithms\n",
    "\n",
    "score1 = accuracy_score(y_test, pred_1)\n",
    "score2 = accuracy_score(y_test, pred_2)\n",
    "score3 = accuracy_score(y_test, pred_3)\n",
    "\n",
    "#classification reports of the above algorithms\n",
    "\n",
    "from sklearn.metrics import classification_report\n",
    "\n",
    "print(\"Classification report for naive bayes :\\n\",classification_report(y_test, pred_1, target_names=t))\n",
    "print(\"Classification report for KNN :\\n\",classification_report(y_test, pred_2, target_names=t))\n",
    "print(\"Classification report for Logistic Regression :\\n\",classification_report(y_test, pred_3, target_names=t))\n",
    "\n",
    "\n",
    "#printing the accuracy scores of the algorithms\n",
    "print(\"Accuracy of first model = \", score1)\n",
    "\n",
    "print(\"Accuracy of second model = \",score2)\n",
    "\n",
    "print(\"Accuracy of 3rd model = \",score3)"
   ]
  },
  {
   "cell_type": "code",
   "execution_count": null,
   "id": "2a989ccb",
   "metadata": {},
   "outputs": [],
   "source": []
  },
  {
   "cell_type": "code",
   "execution_count": null,
   "id": "0ee96c88",
   "metadata": {},
   "outputs": [],
   "source": []
  },
  {
   "cell_type": "code",
   "execution_count": null,
   "id": "7d9129ff",
   "metadata": {},
   "outputs": [],
   "source": []
  },
  {
   "cell_type": "code",
   "execution_count": null,
   "id": "bd7802e1",
   "metadata": {},
   "outputs": [],
   "source": [
    "\n",
    "\n",
    "    "
   ]
  },
  {
   "cell_type": "code",
   "execution_count": null,
   "id": "f8e72843",
   "metadata": {},
   "outputs": [],
   "source": []
  },
  {
   "cell_type": "code",
   "execution_count": null,
   "id": "906ce75e",
   "metadata": {},
   "outputs": [],
   "source": []
  },
  {
   "cell_type": "code",
   "execution_count": null,
   "id": "21b98618",
   "metadata": {},
   "outputs": [],
   "source": []
  },
  {
   "cell_type": "code",
   "execution_count": null,
   "id": "0f70d8b0",
   "metadata": {},
   "outputs": [],
   "source": []
  },
  {
   "cell_type": "code",
   "execution_count": null,
   "id": "600edb15",
   "metadata": {},
   "outputs": [],
   "source": []
  },
  {
   "cell_type": "code",
   "execution_count": null,
   "id": "075869ab",
   "metadata": {},
   "outputs": [],
   "source": []
  },
  {
   "cell_type": "code",
   "execution_count": null,
   "id": "cc32a4b6",
   "metadata": {},
   "outputs": [],
   "source": []
  },
  {
   "cell_type": "code",
   "execution_count": null,
   "id": "1d6d90c8",
   "metadata": {},
   "outputs": [],
   "source": []
  },
  {
   "cell_type": "code",
   "execution_count": null,
   "id": "9bba17a0",
   "metadata": {},
   "outputs": [],
   "source": []
  },
  {
   "cell_type": "code",
   "execution_count": null,
   "id": "77accb31",
   "metadata": {},
   "outputs": [],
   "source": []
  }
 ],
 "metadata": {
  "kernelspec": {
   "display_name": "Python 3 (ipykernel)",
   "language": "python",
   "name": "python3"
  },
  "language_info": {
   "codemirror_mode": {
    "name": "ipython",
    "version": 3
   },
   "file_extension": ".py",
   "mimetype": "text/x-python",
   "name": "python",
   "nbconvert_exporter": "python",
   "pygments_lexer": "ipython3",
   "version": "3.9.7"
  }
 },
 "nbformat": 4,
 "nbformat_minor": 5
}
